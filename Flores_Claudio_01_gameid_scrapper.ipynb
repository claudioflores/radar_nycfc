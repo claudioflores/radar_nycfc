{
 "cells": [
  {
   "cell_type": "code",
   "execution_count": null,
   "metadata": {},
   "outputs": [],
   "source": [
    "from selenium import webdriver\n",
    "from bs4 import BeautifulSoup\n",
    "import pandas as pd\n",
    "import time"
   ]
  },
  {
   "cell_type": "code",
   "execution_count": null,
   "metadata": {},
   "outputs": [],
   "source": [
    "#code scrapes for all the game ids of a specific league-season and saves into a csv\n",
    "\n",
    "driver = webdriver.Firefox(executable_path=\"geckodriver.exe\")\n",
    "driver.set_page_load_timeout(100)\n",
    "driver.get(\"https://www.whoscored.com\")\n",
    "\n",
    "#link with the 2020 season of the mls\n",
    "league_link = \"https://www.whoscored.com/Regions/233/Tournaments/85/Seasons/8055/Stages/18171/\"\n",
    "\n",
    "driver.get(league_link)\n",
    "list_id = []\n",
    "\n",
    "while True:  \n",
    "    \n",
    "    raw_data = driver.page_source\n",
    "    soup = BeautifulSoup(raw_data, \"lxml\")\n",
    "    games = soup.find_all(\"a\", class_=\"match-link match-report rc\")\n",
    "        \n",
    "    for game in games:\n",
    "        link = game['href']\n",
    "        list_id.append(link[9:link.find('/',9)])\n",
    "        \n",
    "    try:\n",
    "        driver.find_element_by_css_selector(\"[title='View previous week']\").click()\n",
    "        time.sleep(2)\n",
    "    except:\n",
    "        break\n",
    "        \n",
    "df = pd.DataFrame(list_id,columns=['id'])\n",
    "df = df.assign(league='usa')\n",
    "df = df.assign(division='1')\n",
    "df = df.assign(season='2020')\n",
    "\n",
    "df.to_csv('usa_div1_2020.csv', index=False)"
   ]
  },
  {
   "cell_type": "code",
   "execution_count": null,
   "metadata": {},
   "outputs": [],
   "source": []
  }
 ],
 "metadata": {
  "kernelspec": {
   "display_name": "Python 3",
   "language": "python",
   "name": "python3"
  },
  "language_info": {
   "codemirror_mode": {
    "name": "ipython",
    "version": 3
   },
   "file_extension": ".py",
   "mimetype": "text/x-python",
   "name": "python",
   "nbconvert_exporter": "python",
   "pygments_lexer": "ipython3",
   "version": "3.7.6"
  }
 },
 "nbformat": 4,
 "nbformat_minor": 2
}
